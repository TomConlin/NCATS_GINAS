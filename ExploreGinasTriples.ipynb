{
 "cells": [
  {
   "cell_type": "markdown",
   "metadata": {},
   "source": [
    "##############################################################"
   ]
  },
  {
   "cell_type": "code",
   "execution_count": 44,
   "metadata": {
    "collapsed": true
   },
   "outputs": [],
   "source": [
    "#   wget --timestamping https://tripod.nih.gov/ginas/gsrs/fullSeedData-2016-06-16.gsrs\n",
    "#   zcat fullSeedData-2016-06-16.gsrs | cut -f3 > fullSeedData-2016-06-16.json\n",
    "#    or\n",
    "#    curl GINASURL | zcat | cut -f3 > fullSeedData-2016-06-16.json\n",
    "#\n",
    "#   Each row should be valid by itself, but all together they are not.\n",
    "# \n",
    "#\n",
    "#   resovoir_sample.awk -v K=10 fullSeedData-2016-06-16.json| \\\n",
    "#   awk 'BEGIN{print\"{\\\"records\\\":[\"}{if(last)print last \",\";last=$0}END{print last \"]}\"}'\\\n",
    "#   > fullSeedData-2016-06-16_sample.json\n",
    "\n",
    "# wrap all the json objects in an array of records\n",
    "# < fullSeedData-2016-06-16.json awk 'BEGIN{print\"{\\\"records\\\":[\"}{if(last)print last \",\";last=$0}END{print last \"]}\"}' > fullSeedData-2016-06-16_records.json"
   ]
  },
  {
   "cell_type": "code",
   "execution_count": 45,
   "metadata": {
    "collapsed": false,
    "scrolled": true
   },
   "outputs": [
    {
     "name": "stdout",
     "output_type": "stream",
     "text": [
      "2474912\n"
     ]
    }
   ],
   "source": [
    "wc -l < ginas.nt"
   ]
  },
  {
   "cell_type": "markdown",
   "metadata": {},
   "source": [
    "RDF ntriples have lines of the form \"`<subject> <predicate> <object> .`\"  \n",
    "we should be able to confirm certain conditions hold:  \n",
    "\\>    The subject is always a Ginias identifier.  \n",
    "\\>    The predicate is now always a path to root (to be reinterperted as an ontological term).  \n",
    "\\>    The object is most variable but when it is a Ginas identifier. That identifier exists as a subject.  "
   ]
  },
  {
   "cell_type": "code",
   "execution_count": 46,
   "metadata": {
    "collapsed": false
   },
   "outputs": [
    {
     "name": "stdout",
     "output_type": "stream",
     "text": [
      "1675640\n",
      "754058\n",
      "45214\n"
     ]
    }
   ],
   "source": [
    "grep -c \"^<UNII:\" ginas.nt\n",
    "grep -c \"^<GINASREF:\" ginas.nt\n",
    "grep -c \"^<cite:\" ginas.nt"
   ]
  },
  {
   "cell_type": "markdown",
   "metadata": {},
   "source": [
    "The output is free of duplicate statements.  \n",
    "\n",
    "What predicates are there and how many of each?"
   ]
  },
  {
   "cell_type": "code",
   "execution_count": 47,
   "metadata": {
    "collapsed": false
   },
   "outputs": [
    {
     "name": "stdout",
     "output_type": "stream",
     "text": [
      " 649506 <GINAS:reference_uuid>\n",
      " 649506 <GINAS:reference_citation>\n",
      " 303021 <OIO:hasdbxref>\n",
      "  84979 <GINAS:uuid>\n",
      "  84979 <GINAS:substanceClass>\n",
      "  84977 <rdfs:label>\n",
      "  70718 <GINAS:code_references>\n",
      "  56543 <GINAS:structure_stereoCenters>\n",
      "  56543 <GINAS:structure_opticalActivity>\n",
      "  56543 <GINAS:structure_mwt>\n",
      "  56543 <GINAS:structure_ezCenters>\n",
      "  56543 <GINAS:structure_definedStereo>\n",
      "  56543 <GINAS:structure_charge>\n",
      "  56541 <GINAS:structure_formula>\n",
      "  52852 <CHEBI:InChIKey>\n",
      "  21935 <GINAS:ACTIVE_MOIETY>\n",
      "  11158 <GINAS:PARENT_ORGANISM--PART_FRACTION>\n",
      "  11083 <GINAS:PART_FRACTION--PARENT_ORGANISM>\n",
      "   7881 <GINAS:PARENT--SALT_SOLVATE>\n",
      "   7858 <GINAS:SALT_SOLVATE--PARENT>\n",
      "   7437 <GINAS:mixture_component_substance>\n",
      "   4933 <GINAS:SUBSTANCE--SUB_CONCEPT>\n",
      "   4931 <GINAS:SUB_CONCEPT--SUBSTANCE>\n",
      "   2442 <GINAS:PARENT--IMPURITY>\n",
      "   2435 <GINAS:CONSTITUENT_ALWAYS_PRESENT--PARENT>\n",
      "   2412 <GINAS:IMPURITY--PARENT>\n",
      "   2227 <GINAS:PARENT--CONSTITUENT_ALWAYS_PRESENT>\n",
      "   1925 <GINAS:mixture_component_type>\n",
      "   1240 <GINAS:ENANTIOMER--RACEMATE>\n",
      "   1237 <GINAS:RACEMATE--ENANTIOMER>\n",
      "    932 <GINAS:PARENT--METABOLITE>\n",
      "    893 <GINAS:METABOLITE--PARENT>\n",
      "    486 <GINAS:INHIBITOR--TRANSPORTER>\n",
      "    484 <GINAS:TRANSPORTER--INHIBITOR>\n",
      "    483 <GINAS:IONIC_MOIETY>\n",
      "    368 <GINAS:BASIS_OF_STRENGTH>\n",
      "    311 <GINAS:UNSPECIFIED_INGREDIENT>\n",
      "    259 <GINAS:PARENT--METABOLITE_ACTIVE>\n",
      "    253 <GINAS:METABOLITE_ACTIVE--PARENT>\n",
      "    242 <GINAS:PARENT--METABOLITE_INACTIVE>\n",
      "    227 <GINAS:METABOLITE_INACTIVE--PARENT>\n",
      "    185 <GINAS:PRODRUG--METABOLITE_ACTIVE>\n",
      "    184 <GINAS:METABOLITE_ACTIVE--PRODRUG>\n",
      "    167 <GINAS:SUBSTRATE--METABOLIC_ENZYME>\n",
      "    143 <GINAS:METABOLIC_ENZYME--SUBSTRATE>\n",
      "    136 <GINAS:NON-LABELED--LABELED>\n",
      "    135 <GINAS:LABELED--NON-LABELED>\n",
      "    111 <GINAS:LIPID--FATTY_ACID>\n",
      "    111 <GINAS:FATTY_ACID--LIPID>\n",
      "    105 <GINAS:structure_stereoComments>\n",
      "     82 <GINAS:CONSTITUENT_MAY_BE_PRESENT--PARENT>\n",
      "     72 <GINAS:PARENT--CONSTITUENT_MAY_BE_PRESENT>\n",
      "     67 <GINAS:PARENT--METABOLITE_LESS_ACTIVE>\n",
      "     66 <GINAS:METABOLITE_LESS_ACTIVE--PARENT>\n",
      "     65 <GINAS:DERIVATIVE--PARENT>\n",
      "     62 <GINAS:ACTIVE_CONSTITUENT_ALWAYS_PRESENT--PARENT>\n",
      "     61 <GINAS:PARENT--DERIVATIVE>\n",
      "     53 <GINAS:PARENT--ACTIVE_CONSTITUENT_ALWAYS_PRESENT>\n",
      "     41 <GINAS:SALT_SOLVATE--SALT_SOLVATE>\n",
      "     39 <GINAS:INDUCER--METABOLIC_ENZYME>\n",
      "     38 <GINAS:SUBSTRATE--TRANSPORTER>\n",
      "     37 <GINAS:TRANSPORTER--SUBSTRATE>\n",
      "     36 <GINAS:METABOLIC_ENZYME--INDUCER>\n",
      "     35 <GINAS:ENANTIOMER--ENANTIOMER>\n",
      "     28 <GINAS:POSSIBLE_ACTIVE_CONSTITUENT_ALWAYS_PRESENT--PARENT>\n",
      "     27 <GINAS:PARENT--METABOLITE_TOXIC>\n",
      "     27 <GINAS:MOLECULAR_FRAGMENT>\n",
      "     25 <GINAS:TARGET--INHIBITOR>\n",
      "     24 <GINAS:METABOLITE_TOXIC--PARENT>\n",
      "     23 <GINAS:INHIBITOR--TARGET>\n",
      "     19 <GINAS:PARENT--POSSIBLE_ACTIVE_CONSTITUENT_ALWAYS_PRESENT>\n",
      "     19 <GINAS:PARENT_ORGANISM--INFRASPECIFIC>\n",
      "     19 <GINAS:PARENT--DEGRADENT>\n",
      "     18 <GINAS:INHIBITOR--METABOLIC_ENZYME>\n",
      "     18 <GINAS:INFRASPECIFIC--PARENT_ORGANISM>\n",
      "     18 <GINAS:DIASTEREOISOMER--DIASTEREOISOMER>\n",
      "     17 <GINAS:DEGRADENT--PARENT>\n",
      "     14 <GINAS:METABOLIC_ENZYME--INHIBITOR>\n",
      "     13 <GINAS:CONJUGATED_ANTIGEN--CONJUGATE_COMPONENT>\n",
      "     13 <GINAS:CONJUGATE_COMPONENT--CONJUGATED_ANTIGEN>\n",
      "     10 <GINAS:PARENT--CONJUGATE>\n",
      "     10 <GINAS:CONJUGATE--PARENT>\n",
      "     10 <GINAS:ACTIVE_CONSTITUENT_ALWAYS_PRESENT>\n",
      "      9 <GINAS:RACEMATE--ACTIVE_ENANTIOMER>\n",
      "      9 <GINAS:METABOLITE_ACTIVE>\n",
      "      9 <GINAS:ACTIVE_ENANTIOMER--RACEMATE>\n",
      "      7 <GINAS:TRANSPORTER--INDUCER>\n",
      "      7 <GINAS:INDUCER--TRANSPORTER>\n",
      "      6 <GINAS:TOXIN--CONJUGATE>\n",
      "      6 <GINAS:NON-INHIBITOR--METABOLIC_ENZYME>\n",
      "      6 <GINAS:METABOLIC_ENZYME--NON-INHIBITOR>\n",
      "      6 <GINAS:CONJUGATE--TOXIN>\n",
      "      6 <GINAS:ACTIVE_ISOMER--PARENT>\n",
      "      5 <GINAS:METABOLIC_ENZYME--NON-INDUCER>\n",
      "      4 <GINAS:PARENT--ACTIVE_ISOMER>\n",
      "      4 <GINAS:NON-SUBSTRATE--METABOLIC_ENZYME>\n",
      "      4 <GINAS:NON-INDUCER--METABOLIC_ENZYME>\n",
      "      4 <GINAS:EXCRETED_UNCHANGED>\n",
      "      3 <GINAS:METABOLIC_ENZYME--NON-SUBSTRATE>\n",
      "      3 <GINAS:AGONIST--TARGET>\n",
      "      2 <GINAS:TRANSPORTER--NON-INHIBITOR>\n",
      "      2 <GINAS:RADIOISOTOPE--RADIOISOTOPE>\n",
      "      2 <GINAS:PARENT--LESS_ACTIVE_ISOMER>\n",
      "      2 <GINAS:PARENT--BIOSIMILAR>\n",
      "      2 <GINAS:LESS_ACTIVE_ISOMER--PARENT>\n",
      "      1 <GINAS:TRANSPORTER--NON-SUBSTRATE>\n",
      "      1 <GINAS:SUBSTANCE_ASSAY_DEFINED_AMOUNT>\n",
      "      1 <GINAS:SPECIFIED_SUBSTANCE--_>\n",
      "      1 <GINAS:PARENT--MORE_ACTIVE_ISOMER>\n",
      "      1 <GINAS:NON-SUBSTRATE--TRANSPORTER>\n",
      "      1 <GINAS:MORE_ACTIVE_ISOMER--PARENT>\n",
      "      1 <GINAS:INACTIVE_ISOMER--PARENT>\n",
      "      1 <GINAS:FOOD--DRUG_INTERACTION>\n",
      "      1 <GINAS:EPIMER--DIASTEREOISOMER>\n",
      "      1 <GINAS:DRUG_INTERACTION--FOOD>\n",
      "      1 <GINAS:DIASTEREOISOMER--EPIMER>\n",
      "      1 <GINAS:BIOSIMILAR--PARENT>\n"
     ]
    }
   ],
   "source": [
    "cut -f2 -d' ' ginas.nt| sort | uniq -c | sort -nr"
   ]
  },
  {
   "cell_type": "markdown",
   "metadata": {},
   "source": [
    "the GINAS: predicates are a path within the JSON `record` object  \n",
    "\n",
    "(except `ingredient` and `unii` which are technicaly sibblings of `record`)\n",
    "\n",
    "\n",
    "Those need mapping to their proper ontology terms  "
   ]
  },
  {
   "cell_type": "markdown",
   "metadata": {
    "collapsed": true
   },
   "source": [
    "To be okay, unique object ids must not out number unique subject ids"
   ]
  },
  {
   "cell_type": "code",
   "execution_count": 48,
   "metadata": {
    "collapsed": true
   },
   "outputs": [],
   "source": [
    "cut -f1 -d' ' ginas.nt| grep \"^<UNII:\" |sort -u > ginas_subject.list\n",
    "cut -f1 -d' ' ginas.nt| grep \"^<GINASREF:\" |sort -u > ginasref_subject.list\n",
    "cut -f1 -d' ' ginas.nt| grep \"^<cite:\" |sort -u > ginascite_subject.list"
   ]
  },
  {
   "cell_type": "code",
   "execution_count": 49,
   "metadata": {
    "collapsed": false
   },
   "outputs": [
    {
     "name": "stdout",
     "output_type": "stream",
     "text": [
      "80046\n",
      "649506\n",
      "4933\n"
     ]
    }
   ],
   "source": [
    "wc -l < ginas_subject.list\n",
    "wc -l < ginasref_subject.list\n",
    "wc -l < ginascite_subject.list"
   ]
  },
  {
   "cell_type": "code",
   "execution_count": 50,
   "metadata": {
    "collapsed": true
   },
   "outputs": [],
   "source": [
    "cut -f3 -d' ' ginas.nt | grep \"^<UNII:\" | sort -u > ginas_object.list\n",
    "cut -f3 -d' ' ginas.nt | grep \"^<GINASREF:\" | sort -u > ginasref_object.list\n",
    "cut -f3 -d' ' ginas.nt | grep \"^<cite:\" | sort -u > ginascite_object.list"
   ]
  },
  {
   "cell_type": "code",
   "execution_count": 51,
   "metadata": {
    "collapsed": false
   },
   "outputs": [
    {
     "name": "stdout",
     "output_type": "stream",
     "text": [
      "49192\n",
      "649506\n",
      "4931\n"
     ]
    }
   ],
   "source": [
    "wc -l < ginas_object.list\n",
    "wc -l < ginasref_object.list\n",
    "wc -l < ginascite_object.list"
   ]
  },
  {
   "cell_type": "markdown",
   "metadata": {},
   "source": [
    "Okay so far"
   ]
  },
  {
   "cell_type": "code",
   "execution_count": 52,
   "metadata": {
    "collapsed": false
   },
   "outputs": [
    {
     "name": "stdout",
     "output_type": "stream",
     "text": [
      "<UNII:C7P25NXB6G>\n",
      "<UNII:GK21SBA74R>\n",
      "<UNII:R33W215S92>\n"
     ]
    }
   ],
   "source": [
    "comm -13 ginas_subject.list ginas_object.list"
   ]
  },
  {
   "cell_type": "markdown",
   "metadata": {},
   "source": [
    "No output means all objects exist as subjects which is good.  "
   ]
  },
  {
   "cell_type": "code",
   "execution_count": 53,
   "metadata": {
    "collapsed": false
   },
   "outputs": [],
   "source": [
    "comm -13 ginasref_subject.list ginasref_object.list"
   ]
  },
  {
   "cell_type": "markdown",
   "metadata": {},
   "source": [
    "We are set to construct some ugly CuriePrefixs and IRI"
   ]
  },
  {
   "cell_type": "code",
   "execution_count": 54,
   "metadata": {
    "collapsed": false
   },
   "outputs": [],
   "source": [
    "grep \"> <GINAS:codes_code> <\" ginas.nt | cut -f3- -d ' ' | cut -f1 -d \\: | tr -d \\< |  sort | uniq -c | sort -nr\n"
   ]
  },
  {
   "cell_type": "code",
   "execution_count": 55,
   "metadata": {
    "collapsed": false
   },
   "outputs": [
    {
     "name": "stdout",
     "output_type": "stream",
     "text": [
      "  21979 \"ACTIVE MOIETY\"\n",
      "  11182 \"PART/FRACTION->PARENT ORGANISM\"\n",
      "  11160 \"PARENT ORGANISM->PART/FRACTION\"\n",
      "   8038 \"SALT/SOLVATE->PARENT\"\n",
      "   7990 \"PARENT->SALT/SOLVATE\"\n",
      "   4933 \"SUBSTANCE->SUB_CONCEPT\"\n",
      "   4931 \"SUB_CONCEPT->SUBSTANCE\"\n",
      "   3039 \"IMPURITY->PARENT\"\n",
      "   2489 \"CONSTITUENT ALWAYS PRESENT->PARENT\"\n",
      "   2472 \"PARENT->IMPURITY\"\n",
      "   2461 \"PARENT->CONSTITUENT ALWAYS PRESENT\"\n",
      "   1314 \"ENANTIOMER->RACEMATE\"\n",
      "   1248 \"RACEMATE->ENANTIOMER\"\n",
      "   1182 \"METABOLITE->PARENT\"\n",
      "    945 \"PARENT->METABOLITE\"\n",
      "    620 \"BASIS OF STRENGTH\"\n",
      "    512 \"TRANSPORTER->INHIBITOR\"\n",
      "    486 \"INHIBITOR->TRANSPORTER\"\n",
      "    483 \"IONIC MOIETY\"\n",
      "    313 \"METABOLITE ACTIVE->PARENT\"\n",
      "    311 \"UNSPECIFIED INGREDIENT\"\n",
      "    298 \"METABOLITE INACTIVE->PARENT\"\n",
      "    267 \"PARENT->METABOLITE ACTIVE\"\n",
      "    250 \"PARENT->METABOLITE INACTIVE\"\n",
      "    193 \"METABOLITE ACTIVE->PRODRUG\"\n",
      "    192 \"PRODRUG->METABOLITE ACTIVE\"\n",
      "    172 \"SUBSTRATE->METABOLIC ENZYME\"\n",
      "    169 \"METABOLIC ENZYME->SUBSTRATE\"\n",
      "    157 \"FATTY ACID->LIPID\"\n",
      "    143 \"NON-LABELED->LABELED\"\n",
      "    140 \"LABELED->NON-LABELED\"\n",
      "    116 \"LIPID->FATTY ACID\"\n",
      "     88 \"METABOLITE LESS ACTIVE->PARENT\"\n",
      "     82 \"CONSTITUENT MAY BE PRESENT->PARENT\"\n",
      "     72 \"PARENT->CONSTITUENT MAY BE PRESENT\"\n",
      "     71 \"PARENT->ACTIVE CONSTITUENT ALWAYS PRESENT\"\n",
      "     70 \"PARENT->METABOLITE LESS ACTIVE\"\n",
      "     68 \"DERIVATIVE->PARENT\"\n",
      "     64 \"ACTIVE CONSTITUENT ALWAYS PRESENT->PARENT\"\n",
      "     62 \"PARENT->DERIVATIVE\"\n",
      "     58 \"TARGET->INHIBITOR\"\n",
      "     43 \"ENANTIOMER->ENANTIOMER\"\n",
      "     41 \"SALT/SOLVATE->SALT/SOLVATE\"\n",
      "     39 \"INDUCER->METABOLIC ENZYME\"\n",
      "     38 \"TRANSPORTER->SUBSTRATE\"\n",
      "     38 \"SUBSTRATE->TRANSPORTER\"\n",
      "     36 \"METABOLIC ENZYME->INDUCER\"\n",
      "     29 \"POSSIBLE ACTIVE CONSTITUENT ALWAYS PRESENT->PARENT\"\n",
      "     29 \"PARENT->METABOLITE TOXIC\"\n",
      "     28 \"METABOLITE TOXIC->PARENT\"\n",
      "     27 \"MOLECULAR FRAGMENT\"\n",
      "     23 \"INHIBITOR->TARGET\"\n",
      "     19 \"PARENT->POSSIBLE ACTIVE CONSTITUENT ALWAYS PRESENT\"\n",
      "     19 \"PARENT ORGANISM->INFRASPECIFIC\"\n",
      "     19 \"PARENT->DEGRADENT\"\n",
      "     19 \"INFRASPECIFIC->PARENT ORGANISM\"\n",
      "     18 \"INHIBITOR->METABOLIC ENZYME\"\n",
      "     18 \"DIASTEREOISOMER->DIASTEREOISOMER\"\n",
      "     18 \"DEGRADENT->PARENT\"\n",
      "     16 \"METABOLIC ENZYME->INHIBITOR\"\n",
      "     15 \"CONJUGATED ANTIGEN->CONJUGATE COMPONENT\"\n",
      "     13 \"CONJUGATE->PARENT\"\n",
      "     13 \"CONJUGATE COMPONENT->CONJUGATED ANTIGEN\"\n",
      "     11 \"PARENT->CONJUGATE\"\n",
      "     11 \"ACTIVE ENANTIOMER->RACEMATE\"\n",
      "     10 \"ACTIVE CONSTITUENT ALWAYS PRESENT\"\n",
      "      9 \"RACEMATE->ACTIVE ENANTIOMER\"\n",
      "      9 \"METABOLITE ACTIVE\"\n",
      "      7 \"TRANSPORTER->INDUCER\"\n",
      "      7 \"INDUCER->TRANSPORTER\"\n",
      "      7 \"CONJUGATE->TOXIN\"\n",
      "      7 \"ACTIVE ISOMER->PARENT\"\n",
      "      6 \"TOXIN->CONJUGATE\"\n",
      "      6 \"NON-INHIBITOR->METABOLIC ENZYME\"\n",
      "      6 \"METABOLIC ENZYME->NON-INHIBITOR\"\n",
      "      5 \"TARGET->INHIBITOR RESISTANT\"\n",
      "      5 \"METABOLIC ENZYME->NON-INDUCER\"\n",
      "      5 \"EXCRETED UNCHANGED\"\n",
      "      4 \"PARENT->ACTIVE ISOMER\"\n",
      "      4 \"NON-SUBSTRATE->METABOLIC ENZYME\"\n",
      "      4 \"NON-INDUCER->METABOLIC ENZYME\"\n",
      "      3 \"METABOLIC ENZYME->NON-SUBSTRATE\"\n",
      "      3 \"AGONIST->TARGET\"\n",
      "      2 \"TRANSPORTER->NON-INHIBITOR\"\n",
      "      2 \"SUBSTANCE ASSAY DEFINED AMOUNT\"\n",
      "      2 \"RADIOISOTOPE->RADIOISOTOPE\"\n",
      "      2 \"PARENT->LESS ACTIVE ISOMER\"\n",
      "      2 \"PARENT->BIOSIMILAR\"\n",
      "      2 \"LESS ACTIVE ISOMER->PARENT\"\n",
      "      2 \"INACTIVE ISOMER->PARENT\"\n",
      "      2 \"DIASTEREOISOMER->EPIMER\"\n",
      "      2 \"BIOSIMILAR->PARENT\"\n",
      "      1 \"TRANSPORTER->NON-SUBSTRATE\"\n",
      "      1 \"SUBSTRATE->TARGET\"\n",
      "      1 \"SPECIFIED SUBSTANCE->_\"\n",
      "      1 \"PARENT->MORE ACTIVE ISOMER\"\n",
      "      1 \"NON-SUBSTRATE->TRANSPORTER\"\n",
      "      1 \"MORE ACTIVE ISOMER->PARENT\"\n",
      "      1 \"INTERMEDIATE->INGREDIENT\"\n",
      "      1 \"INACTIVE ENANTIOMER->RACEMATE\"\n",
      "      1 \"FOOD->DRUG INTERACTION\"\n",
      "      1 \"EPIMER->DIASTEREOISOMER\"\n",
      "      1 \"DRUG INTERACTION->FOOD\"\n"
     ]
    }
   ],
   "source": [
    "jq '.[][].relationships[].type' fullSeedData-2016-06-16_records.json | sort | uniq -c | sort -nr"
   ]
  },
  {
   "cell_type": "markdown",
   "metadata": {},
   "source": [
    "What are the CuriePrefixes in use?"
   ]
  },
  {
   "cell_type": "code",
   "execution_count": 56,
   "metadata": {
    "collapsed": false
   },
   "outputs": [
    {
     "name": "stdout",
     "output_type": "stream",
     "text": [
      "1675640 <UNII\n",
      " 754058 <GINASREF\n",
      "  45214 <cite\n",
      "\n",
      "2034062 <GINAS\n",
      " 303021 <OIO\n",
      "  84977 <rdfs\n",
      "  52852 <CHEBI\n"
     ]
    }
   ],
   "source": [
    "cut -f1 -d' ' ginas.nt | cut -f1 -d\\: | sort | uniq -c | sort -nr\n",
    "echo \"\"\n",
    "cut -f2 -d' ' ginas.nt | cut -f1 -d\\: | sort | uniq -c | sort -nr"
   ]
  },
  {
   "cell_type": "markdown",
   "metadata": {},
   "source": [
    "finding Object curie prefixs will be less realiable"
   ]
  },
  {
   "cell_type": "code",
   "execution_count": 57,
   "metadata": {
    "collapsed": false
   },
   "outputs": [
    {
     "name": "stdout",
     "output_type": "stream",
     "text": [
      " 720224 <GINASREF\n",
      " 103454 <http\n",
      "  91614 <UNII\n",
      "  59232 <CAS\n",
      "  20967 <ECHA (EC/EINECS)\n",
      "  15680 <MERCK INDEX\n",
      "  12786 <NCI_THESAURUS\n",
      "  10870 <MESH\n",
      "  10068 <RXCUI\n",
      "   8874 <INN\n",
      "   7750 <WIKIPEDIA\n",
      "   5882 <NCBI TAXONOMY\n",
      "   5475 <EVMPD\n",
      "   5286 <NDF-RT\n",
      "   4931 <cite\n",
      "   4746 <WHO-VATC\n",
      "   4569 <ITIS\n",
      "   4525 <WHO-ATC\n",
      "   3333 <GRIN\n",
      "   2857 <EPA PESTICIDE CODE\n",
      "   2563 <USDA PLANTS\n",
      "   2330 <CFR\n",
      "   1920 <DRUG BANK\n",
      "   1902 <JECFA EVALUATION\n",
      "   1354 <EMA ASSESSMENT REPORTS\n"
     ]
    }
   ],
   "source": [
    "cut -f3- -d' ' ginas.nt | grep \"^<\" | cut -f1 -d\\: | sort | uniq -c | sort -nr | head -25"
   ]
  },
  {
   "cell_type": "markdown",
   "metadata": {},
   "source": [
    "Those are worth looking into but first, required resources: \n",
    "\n",
    "1) A source specific translation table that maps external strings into internal strings  \n",
    "e.g. they say `NCBI TAXONOMY` we say `NCBITaxon`\n",
    "\n",
    "2) A common mapping of short to long form prefixs or bases. That is, a file with the namespace or CURIE prefix mapped the the constant base portion of an IRI  \n",
    "e.g.   `CAS\thttp://www.cas-no.org/`  \n",
    "\n",
    "These first two are related in that every? element in the second column of the first mapping occurs as an element in the first column of the second mapping (a namepace).  \n",
    "(I question _every_ b/c we may use this mechinism to normalize non ontoligical strings as well) \n",
    "\n",
    "3) A common mapping of human friendly labels to machine oriented terms per namespace  \n",
    "e.g. `'RO:member_of' RO:0002350`\n",
    "\n",
    "Where the first column is a string a programmer can reason about when they are creating or maintaining code. And the second is the CURIE for the ontological term being that will be included in the output. (the `namespace:label` will _not_ be emitted)  \n",
    "\n",
    "some notes:  \n",
    "\n",
    "i)  Including the namespace with the label is important because there are no constraints on what various ontologists lable things (including terms from different ontologies) so be selective when adopting a lable, favor the canonical source for a term.\n",
    "\n",
    "ii) Labels may contain spaces and other identifier unfriendly aspects. Feedback pressure to keep them as sane as reasonable is a community service.\n",
    "\n",
    "iii) Labels are apt to change more often than the underlying term, checking them before use is prudent.\n",
    "\n",
    "--- \n",
    "\n",
    "Here we have enough information to structure and emit our data as Resource Discription Framework (RDF) triples anotated with ontological terms.\n",
    "\n",
    "\n",
    "However to be a valid Web Ontology Language (OWL) representation the ontological terms need to be typed.\n",
    "\n",
    "To my limited understanding, OWL can be represented a Directed Acyclic Graph (DAG) of RDF. Even if OWL itself is not constrained to be DAGs, usefully computable instances should not be more connected than a DAG.  All DAGs may be represented as a set of overlapping trees (hirearchies) with distinct roots but possible common internal and leaf nodes. \n",
    "\n",
    "When we annotate our data with an ontological term we also have to specify the root of the hirearchy we want the term to be considered part of incase it could be part of several. This matters when the OWL file is being reasoned over.  \n",
    "\n",
    "There are severrial possible cases \n",
    ". the term is only within one hirearchy in which case the typing is moot (but still necessary). \n",
    ". The term is in multiple hirearchies but we only use it in one way in which case a common `term->type` mapping file is needed.\n",
    "\n",
    ". The term is in multiple hirearchies and we use differently with different datasets in which case source specific `term->type` mapping file is needed.\n",
    "\n",
    ". The term is in multiple hirearchies and we use differently within the same dataset in which case I might argue they should be different terms. prehaps by altering the namespace (but may muck up alot of nice consistency propertied we aught be checking).\n",
    "\n",
    "made up example:\n",
    "\n",
    "    WAG:whatever  WAG:abc123\n",
    "    SWAG:whatever SWAG:abc123\n",
    "\n",
    "where in the CuriePrefix_IRIPrefix mappinile both namespaceswould map the the sme base IRI\n",
    "\n",
    "    WAG  http://example.org/\n",
    "    SWAG http://example.org/\n",
    "\n",
    "We could then globaly type the terms\n",
    "\n",
    "    WAG:abc123  owl:turnip\n",
    "    SWAG:abc123 owl:rutabegga\n",
    "\n",
    "In all these cases we are able to isolate the OWL type metadata which will be used in concert with many other sources to extrapolate novle statements   \n",
    "from the statments _this_ source explicitly asserts which is an excellent property when we want to establish consistancy and correctness of this source.\n",
    "\n",
    "\n",
    "The least good option (and our current practice) is to hardcode the type with each term usage.\n",
    "\n",
    "\n",
    "TODO: cleanup spellcheck\n",
    "\n"
   ]
  }
 ],
 "metadata": {
  "kernelspec": {
   "display_name": "Bash",
   "language": "bash",
   "name": "bash"
  },
  "language_info": {
   "codemirror_mode": "shell",
   "file_extension": ".sh",
   "mimetype": "text/x-sh",
   "name": "bash"
  }
 },
 "nbformat": 4,
 "nbformat_minor": 2
}
