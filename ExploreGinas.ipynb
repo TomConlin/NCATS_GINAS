{
 "cells": [
  {
   "cell_type": "markdown",
   "metadata": {},
   "source": [
    "TransMed Translator is using Ginas data as a testbed since none of the groups had ingested it yet.\n",
    "\n",
    "see:  \n",
    "https://github.com/NCATS-Tangerine/ncats-ingest/issues/1\n",
    "\n",
    "The best source for the data to date is found at:  \n",
    "https://tripod.nih.gov/ginas/#/gsrs/data\n",
    "\n",
    " \n",
    "this  notebook does assume `jq` is installed  \n",
    "https://stedolan.github.io/jq/"
   ]
  },
  {
   "cell_type": "code",
   "execution_count": 37,
   "metadata": {
    "collapsed": false
   },
   "outputs": [],
   "source": [
    "# commented out after first fetch \n",
    "# wget -q --timestamping https://tripod.nih.gov/ginas/gsrs/fullSeedData-2016-06-16.gsrs"
   ]
  },
  {
   "cell_type": "code",
   "execution_count": 38,
   "metadata": {
    "collapsed": false
   },
   "outputs": [
    {
     "name": "stdout",
     "output_type": "stream",
     "text": [
      "-rw-r--r-- 1 tomc tomc 91M Aug 12 12:37 fullSeedData-2016-06-16.gsrs\n"
     ]
    }
   ],
   "source": [
    "ls -lh *.gsrs"
   ]
  },
  {
   "cell_type": "code",
   "execution_count": 39,
   "metadata": {
    "collapsed": false
   },
   "outputs": [
    {
     "name": "stdout",
     "output_type": "stream",
     "text": [
      "fullSeedData-2016-06-16.gsrs: gzip compressed data, last modified: Thu Jun 16 14:53:25 2016, from Unix\n"
     ]
    }
   ],
   "source": [
    "file fullSeedData-2016-06-16.gsrs"
   ]
  },
  {
   "cell_type": "code",
   "execution_count": 40,
   "metadata": {
    "collapsed": true
   },
   "outputs": [],
   "source": [
    "gunzip - < fullSeedData-2016-06-16.gsrs > fullSeedData-2016-06-16"
   ]
  },
  {
   "cell_type": "code",
   "execution_count": 41,
   "metadata": {
    "collapsed": false
   },
   "outputs": [
    {
     "name": "stdout",
     "output_type": "stream",
     "text": [
      "fullSeedData-2016-06-16: ASCII text, with very long lines\n"
     ]
    }
   ],
   "source": [
    "file fullSeedData-2016-06-16"
   ]
  },
  {
   "cell_type": "markdown",
   "metadata": {},
   "source": [
    "make sure it is not all on one half gigabyte line before taking a look (happens)."
   ]
  },
  {
   "cell_type": "code",
   "execution_count": 42,
   "metadata": {
    "collapsed": false,
    "scrolled": false
   },
   "outputs": [
    {
     "name": "stdout",
     "output_type": "stream",
     "text": [
      "84979\n"
     ]
    }
   ],
   "source": [
    "wc -l < fullSeedData-2016-06-16"
   ]
  },
  {
   "cell_type": "code",
   "execution_count": 43,
   "metadata": {
    "collapsed": false
   },
   "outputs": [
    {
     "name": "stdout",
     "output_type": "stream",
     "text": [
      "WORKED: 18MXK3D6DB\tb029367a-c360-4617-8a2e-fd90c7a88fdf\t{\"structure\":{\"references\":[\"17162b41-9aa8-4549-b423-a1169d864351\",\"383105ca-e739-4df4-9be3-cb7342556d73\"],\"molfile\":\"\\n  Symyx   06151614132D 1   1.00000     0.00000     0\\n\\n 12 12  0     0  0            999 V2000\\n   21.4377   -8.1424    0.0000 C   0  0  0  0  0  0           0  0  0\\n   22.4606   -8.7330    0.0000 C   0  0  0  0  0  0           0  0  0\\n   23.4835   -8.1424    0.0000 C   0  0  0  0  0  0           0  0  0\\n   23.4835   -6.9613    0.0000 C   0  0  0  0  0  0           0  0  0\\n   22.4606   -9.9141    0.0000 C   0  0  0  0  0  0           0  0  0\\n   21.4377  -10.5046    0.0000 C   0  0  0  0  0  0           0  0  0\\n   21.4377  -11.6857    0.0000 S   0  0  3  0  0  0           0  0  0\\n   22.6188  -11.6857    0.0000 O   0  0  0  0  0  0           0  0  0\\n   20.2566  -11.6857    0.0000 O   0  0  0  0  0  0           0  0  0\\n   21.4377  -12.8668    0.0000 O   0  0  0  0  0  0           0  0  0\\n   20.4149   -9.9141    0.0000 C   0  0  0  0  0  0           0  0  0\\n   20.4149   -8.7330    0.0000 C   0  0  0  0  0  0           0  0  0\\n  2  1  2  0     0  0\\n  2  3  1  0     0  0\\n  4  3  2  0     0  0\\n  5  2  1  0     0  0\\n  5  6  2  0     0  0\\n  7  6  1  0     0  0\\n  7  8  2  0     0  0\\n  7  9  1  0     0  0\\n  7 10  2  0     0  0\\n 11  6  1  0     0  0\\n 12 11  2  0     0  0\\n  1 12  1  0     0  0\\nM  END\\n\",\"stereochemistry\":\"ACHIRAL\",\"opticalActivity\":\"UNSPECIFIED\",\"atropisomerism\":\"No\",\"stereoComments\":\"\",\"stereoCenters\":0,\"definedStereo\":0,\"ezCenters\":0,\"charge\":0,\"hash\":\"54JUK9CM6Z6Y\",\"formula\":\"C8H8O3S\",\"mwt\":\"184.212\"},\"moieties\":[{\"count\":1,\"molfile\":\"18MXK3D6DB\\n  Marvin  06161610202D          \\n\\n 12 12  0  0  0  0            999 V2000\\n   14.9743   -5.6875    0.0000 C   0  0  0  0  0  0  0  0  0  0  0  0\\n   15.6888   -6.1000    0.0000 C   0  0  0  0  0  0  0  0  0  0  0  0\\n   16.4033   -5.6875    0.0000 C   0  0  0  0  0  0  0  0  0  0  0  0\\n   16.4033   -4.8625    0.0000 C   0  0  0  0  0  0  0  0  0  0  0  0\\n   15.6888   -6.9250    0.0000 C   0  0  0  0  0  0  0  0  0  0  0  0\\n   14.9743   -7.3375    0.0000 C   0  0  0  0  0  0  0  0  0  0  0  0\\n   14.9743   -8.1625    0.0000 S   0  0  0  0  0  0  0  0  0  0  0  0\\n   15.7993   -8.1625    0.0000 O   0  0  0  0  0  0  0  0  0  0  0  0\\n   14.1493   -8.1625    0.0000 O   0  0  0  0  0  0  0  0  0  0  0  0\\n   14.9743   -8.9875    0.0000 O   0  0  0  0  0  0  0  0  0  0  0  0\\n   14.2598   -6.9250    0.0000 C   0  0  0  0  0  0  0  0  0  0  0  0\\n   14.2598   -6.1000    0.0000 C   0  0  0  0  0  0  0  0  0  0  0  0\\n  2  1  2  0  0  0  0\\n  2  3  1  0  0  0  0\\n  4  3  2  0  0  0  0\\n  5  2  1  0  0  0  0\\n  5  6  2  0  0  0  0\\n  7  6  1  0  0  0  0\\n  7  8  2  0  0  0  0\\n  7  9  1  0  0  0  0\\n  7 10  2  0  0  0  0\\n 11  6  1  0  0  0  0\\n 12 11  2  0  0  0  0\\n  1 12  1  0  0  0  0\\nM  END\\n\",\"stereochemistry\":\"ACHIRAL\",\"opticalActivity\":\"UNSPECIFIED\",\"atropisomerism\":\"No\",\"stereoComments\":\"\",\"stereoCenters\":0,\"definedStereo\":0,\"ezCenters\":0,\"charge\":0,\"hash\":\"54JUK9CM6Z6Y\",\"formula\":\"C8H8O3S\",\"mwt\":\"184.212\"}],\"approvalID\":\"18MXK3D6DB\",\"status\":\"approved\",\"approvedBy\":\"FDA_SRS\",\"deprecated\":false,\"approved\":1466087556535,\"substanceClass\":\"chemical\",\"names\":[{\"name\":\"3-STYRENESULFONIC ACID\",\"stdName\":\"3-STYRENESULFONIC ACID\",\"type\":\"sys\",\"displayName\":true,\"domains\":[],\"languages\":[\"en\"],\"references\":[\"026425aa-fbd1-4c76-9841-0cb6f0d80eff\"],\"preferred\":true,\"access\":[]},{\"name\":\"BENZENESULFONIC ACID, 3-ETHENYL-\",\"stdName\":\"BENZENESULFONIC ACID, 3-ETHENYL-\",\"type\":\"sys\",\"displayName\":false,\"domains\":[],\"languages\":[\"en\"],\"references\":[\"026425aa-fbd1-4c76-9841-0cb6f0d80eff\"],\"preferred\":false,\"access\":[]}],\"codes\":[{\"code\":\"46060-58-6\",\"codeSystem\":\"CAS\",\"references\":[\"661f6260-85cf-426f-97b0-cbb6d396eea3\"],\"url\":\"http://chem.sis.nlm.nih.gov/chemidplus/direct.jsp?regno\\u003d46060-58-6\\u0026result\\u003dadvanced\",\"type\":\"PRIMARY\",\"access\":[]}],\"relationships\":[],\"references\":[{\"uuid\":\"026425aa-fbd1-4c76-9841-0cb6f0d80eff\",\"citation\":\"FDA SRS:\\u003cSRS_LEGACY_DATA\\u003e\\u003c/SRS_LEGACY_DATA\\u003e\",\"docType\":\"SRS\",\"publicDomain\":true,\"tags\":[\"NOMEN\"],\"access\":[]},{\"uuid\":\"661f6260-85cf-426f-97b0-cbb6d396eea3\",\"citation\":\"SRS CODE IMPORT:\\u003cSRS_LEGACY_DATA\\u003e\\u003c/SRS_LEGACY_DATA\\u003e\",\"docType\":\"SRS\",\"publicDomain\":true,\"documentDate\":\"2016-06-16T10:32:36.000-0400\",\"tags\":[\"NOMEN\"],\"access\":[]},{\"uuid\":\"17162b41-9aa8-4549-b423-a1169d864351\",\"citation\":\"SRS import [18MXK3D6DB]:\\u003cSRS_LEGACY_DATA\\u003e\\u003cCREATED_BY\\u003e\\u003c/CREATED_BY\\u003e\\u003cCREATED_DATE\\u003enull\\u003c/CREATED_DATE\\u003e\\u003c/SRS_LEGACY_DATA\\u003e\",\"docType\":\"SRS\",\"publicDomain\":true,\"documentDate\":\"2016-06-16T10:32:36.000-0400\",\"tags\":[\"NOMEN\"],\"url\":\"http://fdasis.nlm.nih.gov/srs/srsdirect.jsp?regno\\u003d18MXK3D6DB\",\"access\":[]},{\"uuid\":\"383105ca-e739-4df4-9be3-cb7342556d73\",\"citation\":\"STN\",\"docType\":\"SRS\",\"publicDomain\":true,\"tags\":[\"NOMEN\"],\"access\":[]}],\"properties\":[],\"notes\":[],\"tags\":[],\"uuid\":\"b029367a-c360-4617-8a2e-fd90c7a88fdf\",\"definitionLevel\":\"COMPLETE\",\"access\":[],\"lastEditedBy\":\"FDA_SRS\"}\n",
      "WORKED: O061W4C37H\t62c5f099-2d3f-4ff5-a050-58217e2749db\t{\"structure\":{\"references\":[\"114f1bc8-b2ba-4e55-a1cc-17db6d5aa91f\",\"3c416617-194b-4f1b-8564-6078448147a4\"],\"molfile\":\"\\n  Symyx   06151614132D 1   1.00000     0.00000     0\\n\\n 20 19  0     0  0            999 V2000\\n    5.7625   -0.7042    0.0000 C   0  0  0  0  0  0           0  0  0\\n    5.7625   -2.0542    0.0000 O   0  0  0  0  0  0           0  0  0\\n    4.6167   -0.0542    0.0000 O   0  0  0  0  0  0           0  0  0\\n    6.9292   -0.0792    0.0000 C   0  0  0  0  0  0           0  0  0\\n    3.4542   -0.7042    0.0000 C   0  0  0  0  0  0           0  0  0\\n    8.0750   -0.7417    0.0000 C   0  0  0  0  0  0           0  0  0\\n    2.3042   -0.0333    0.0000 C   0  0  0  0  0  0           0  0  0\\n   19.6417   -0.8500    0.0000 C   0  0  0  0  0  0           0  0  0\\n    1.1417   -0.6792    0.0000 C   0  0  0  0  0  0           0  0  0\\n   18.5000   -0.1792    0.0000 C   0  0  0  0  0  0           0  0  0\\n   17.3542   -0.8292    0.0000 C   0  0  0  0  0  0           0  0  0\\n   16.1917   -0.1583    0.0000 C   0  0  0  0  0  0           0  0  0\\n   15.0250   -0.8042    0.0000 C   0  0  0  0  0  0           0  0  0\\n   13.8792   -0.1417    0.0000 C   0  0  0  0  0  0           0  0  0\\n   12.7375   -0.7875    0.0000 C   0  0  0  0  0  0           0  0  0\\n   11.5500   -0.1167    0.0000 C   0  0  0  0  0  0           0  0  0\\n   10.3792   -0.7667    0.0000 C   0  0  0  0  0  0           0  0  0\\n    9.2375   -0.0958    0.0000 C   0  0  0  0  0  0           0  0  0\\n   20.8125   -0.2042    0.0000 C   0  0  0  0  0  0           0  0  0\\n    0.0000    0.0000    0.0000 C   0  0  0  0  0  0           0  0  0\\n  2  1  2  0     0  0\\n  3  1  1  0     0  0\\n  4  1  1  0     0  0\\n  5  3  1  0     0  0\\n  6  4  1  0     0  0\\n  7  5  1  0     0  0\\n  8 10  1  0     0  0\\n  9  7  1  0     0  0\\n 10 11  1  0     0  0\\n 11 12  1  0     0  0\\n 12 13  1  0     0  0\\n 13 14  1  0     0  0\\n 14 15  1  0     0  0\\n 15 16  1  0     0  0\\n 16 17  1  0     0  0\\n 17 18  1  0     0  0\\n 18  6  1  0     0  0\\n 19  8  1  0     0  0\\n 20  9  1  0     0  0\\nM  END\\n\",\"stereochemistry\":\"ACHIRAL\",\"opticalActivity\":\"UNSPECIFIED\",\"atropisomerism\":\"No\",\"stereoComments\":\"\",\"stereoCenters\":0,\"definedStereo\":0,\"ezCenters\":0,\"charge\":0,\"hash\":\"BZLTXH2P8WG7\",\"formula\":\"C18H36O2\",\"mwt\":\"284.4772\"},\"moieties\":[{\"count\":1,\"molfile\":\"O061W4C37H\\n  Marvin  06161610202D          \\n\\n 20 19  0  0  0  0            999 V2000\\n    3.5748   -0.4369    0.0000 C   0  0  0  0  0  0  0  0  0  0  0  0\\n    3.5748   -1.2743    0.0000 O   0  0  0  0  0  0  0  0  0  0  0  0\\n    2.8640   -0.0336    0.0000 O   0  0  0  0  0  0  0  0  0  0  0  0\\n    4.2986   -0.0491    0.0000 C   0  0  0  0  0  0  0  0  0  0  0  0\\n    2.1428   -0.4369    0.0000 C   0  0  0  0  0  0  0  0  0  0  0  0\\n    5.0094   -0.4601    0.0000 C   0  0  0  0  0  0  0  0  0  0  0  0\\n    1.4294   -0.0207    0.0000 C   0  0  0  0  0  0  0  0  0  0  0  0\\n   12.1848   -0.5273    0.0000 C   0  0  0  0  0  0  0  0  0  0  0  0\\n    0.7083   -0.4213    0.0000 C   0  0  0  0  0  0  0  0  0  0  0  0\\n   11.4766   -0.1112    0.0000 C   0  0  0  0  0  0  0  0  0  0  0  0\\n   10.7658   -0.5144    0.0000 C   0  0  0  0  0  0  0  0  0  0  0  0\\n   10.0446   -0.0982    0.0000 C   0  0  0  0  0  0  0  0  0  0  0  0\\n    9.3208   -0.4989    0.0000 C   0  0  0  0  0  0  0  0  0  0  0  0\\n    8.6100   -0.0879    0.0000 C   0  0  0  0  0  0  0  0  0  0  0  0\\n    7.9018   -0.4885    0.0000 C   0  0  0  0  0  0  0  0  0  0  0  0\\n    7.1651   -0.0724    0.0000 C   0  0  0  0  0  0  0  0  0  0  0  0\\n    6.4388   -0.4756    0.0000 C   0  0  0  0  0  0  0  0  0  0  0  0\\n    5.7305   -0.0594    0.0000 C   0  0  0  0  0  0  0  0  0  0  0  0\\n   12.9111   -0.1267    0.0000 C   0  0  0  0  0  0  0  0  0  0  0  0\\n    0.0000    0.0000    0.0000 C   0  0  0  0  0  0  0  0  0  0  0  0\\n  2  1  2  0  0  0  0\\n  3  1  1  0  0  0  0\\n  4  1  1  0  0  0  0\\n  5  3  1  0  0  0  0\\n  6  4  1  0  0  0  0\\n  7  5  1  0  0  0  0\\n  8 10  1  0  0  0  0\\n  9  7  1  0  0  0  0\\n 10 11  1  0  0  0  0\\n 11 12  1  0  0  0  0\\n 12 13  1  0  0  0  0\\n 13 14  1  0  0  0  0\\n 14 15  1  0  0  0  0\\n 15 16  1  0  0  0  0\\n 16 17  1  0  0  0  0\\n 17 18  1  0  0  0  0\\n 18  6  1  0  0  0  0\\n 19  8  1  0  0  0  0\\n 20  9  1  0  0  0  0\\nM  END\\n\",\"stereochemistry\":\"ACHIRAL\",\"opticalActivity\":\"UNSPECIFIED\",\"atropisomerism\":\"No\",\"stereoComments\":\"\",\"stereoCenters\":0,\"definedStereo\":0,\"ezCenters\":0,\"charge\":0,\"hash\":\"BZLTXH2P8WG7\",\"formula\":\"C18H36O2\",\"mwt\":\"284.4772\"}],\"approvalID\":\"O061W4C37H\",\"status\":\"approved\",\"approvedBy\":\"FDA_SRS\",\"deprecated\":false,\"approved\":1466087557690,\"substanceClass\":\"chemical\",\"names\":[{\"name\":\"BUTYL MYRISTATE\",\"stdName\":\"BUTYL MYRISTATE\",\"type\":\"of\",\"displayName\":true,\"domains\":[],\"languages\":[\"en\"],\"references\":[\"56d4266e-e8db-4d2b-a2e9-41f2b840ad1c\",\"51581507-0560-4978-be09-7bddfab5df22\",\"b88604f2-ffcd-41ea-8e5a-2a5a436d7509\"],\"preferred\":true,\"access\":[],\"nameOrgs\":[{\"deprecated\":false,\"nameOrg\":\"INCI\"}]},{\"name\":\"BUTYL N-TETRADECANOATE\",\"stdName\":\"BUTYL N-TETRADECANOATE\",\"type\":\"cn\",\"displayName\":false,\"domains\":[],\"languages\":[\"en\"],\"references\":[\"51581507-0560-4978-be09-7bddfab5df22\"],\"preferred\":false,\"access\":[]},{\"name\":\"MYRISTIC ACID, BUTYL ESTER\",\"stdName\":\"MYRISTIC ACID, BUTYL ESTER\",\"type\":\"cn\",\"displayName\":false,\"domains\":[],\"languages\":[\"en\"],\"references\":[\"51581507-0560-4978-be09-7bddfab5df22\"],\"preferred\":false,\"access\":[]},{\"name\":\"NIKKOL BM\",\"stdName\":\"NIKKOL BM\",\"type\":\"cn\",\"displayName\":false,\"domains\":[],\"languages\":[\"en\"],\"references\":[\"51581507-0560-4978-be09-7bddfab5df22\"],\"preferred\":false,\"access\":[]}],\"codes\":[{\"code\":\"110-36-1\",\"codeSystem\":\"CAS\",\"references\":[\"90ff4812-abeb-4457-b495-b2cf5605a9cc\"],\"url\":\"http://chem.sis.nlm.nih.gov/chemidplus/direct.jsp?regno\\u003d110-36-1\\u0026result\\u003dadvanced\",\"type\":\"PRIMARY\",\"access\":[]},{\"code\":\"203-759-8\",\"codeSystem\":\"ECHA (EC/EINECS)\",\"references\":[\"90ff4812-abeb-4457-b495-b2cf5605a9cc\"],\"type\":\"PRIMARY\",\"access\":[]}],\"relationships\":[],\"references\":[{\"uuid\":\"51581507-0560-4978-be09-7bddfab5df22\",\"citation\":\"PCPC-DB:\\u003cSRS_LEGACY_DATA\\u003e\\u003c/SRS_LEGACY_DATA\\u003e\",\"docType\":\"SRS\",\"publicDomain\":true,\"tags\":[\"NOMEN\"],\"access\":[]},{\"uuid\":\"b88604f2-ffcd-41ea-8e5a-2a5a436d7509\",\"citation\":\"PCPC:\\u003cSRS_LEGACY_DATA\\u003e\\u003c/SRS_LEGACY_DATA\\u003e\",\"docType\":\"SRS\",\"publicDomain\":true,\"tags\":[\"NOMEN\"],\"access\":[]},{\"uuid\":\"90ff4812-abeb-4457-b495-b2cf5605a9cc\",\"citation\":\"SRS CODE IMPORT:\\u003cSRS_LEGACY_DATA\\u003e\\u003c/SRS_LEGACY_DATA\\u003e\",\"docType\":\"SRS\",\"publicDomain\":true,\"documentDate\":\"2016-06-16T10:32:37.000-0400\",\"tags\":[\"NOMEN\"],\"access\":[]},{\"uuid\":\"114f1bc8-b2ba-4e55-a1cc-17db6d5aa91f\",\"citation\":\"SRS import [O061W4C37H]:\\u003cSRS_LEGACY_DATA\\u003e\\u003cCREATED_BY\\u003e\\u003c/CREATED_BY\\u003e\\u003cCREATED_DATE\\u003enull\\u003c/CREATED_DATE\\u003e\\u003c/SRS_LEGACY_DATA\\u003e\",\"docType\":\"SRS\",\"publicDomain\":true,\"documentDate\":\"2016-06-16T10:32:37.000-0400\",\"tags\":[\"NOMEN\"],\"url\":\"http://fdasis.nlm.nih.gov/srs/srsdirect.jsp?regno\\u003dO061W4C37H\",\"access\":[]},{\"uuid\":\"3c416617-194b-4f1b-8564-6078448147a4\",\"citation\":\"PCPC-DB\",\"docType\":\"SRS\",\"publicDomain\":true,\"tags\":[\"NOMEN\"],\"access\":[]},{\"citation\":\"BUTYL MYRISTATE [INCI]\",\"docType\":\"SRS_LOCATOR\",\"uuid\":\"56d4266e-e8db-4d2b-a2e9-41f2b840ad1c\",\"publicDomain\":true}],\"properties\":[],\"notes\":[],\"tags\":[\"INCI\"],\"uuid\":\"62c5f099-2d3f-4ff5-a050-58217e2749db\",\"definitionLevel\":\"COMPLETE\",\"access\":[],\"lastEditedBy\":\"FDA_SRS\"}\n"
     ]
    }
   ],
   "source": [
    "head -2 fullSeedData-2016-06-16"
   ]
  },
  {
   "cell_type": "markdown",
   "metadata": {},
   "source": [
    "looks like an array of:   \n",
    "\n",
    "    WORKED: <SRS_UNII>\t<UUID> {json: blob}\n",
    "    "
   ]
  },
  {
   "cell_type": "markdown",
   "metadata": {},
   "source": [
    " __ASIDE__  \n",
    "Where `SRS_UNII` is FDA's \"Substance Registration System Unique Ingrediant Identifier\"  \n",
    "The second one for example, goes to:   \n",
    "    https://fdasis.nlm.nih.gov/srs/auto/startswith/o061w4c37h\n",
    "\n",
    "(Will also note that although Ginas does not have an \"InChIKey\" for this substance the fda does associate the inchikey \"DHAZIUXMHRHVMP-UHFFFAOYSA-N\"\n",
    "\n",
    "FDA has https://fdasis.nlm.nih.gov/srs/download/srs/UNIIs.zip\n",
    "\n",
    "with 601k rows of:  \n",
    "\n",
    "    head -1 \"UNIIs 10Nov2016 Names.txt\"\n",
    "    NAME\tTYPE\tUNII\tPT\n",
    "    \n",
    "and https://fdasis.nlm.nih.gov/srs/download/srs/UNII_Data.zip\n",
    "\n",
    "with 83k rows of:  \n",
    "\n",
    "    head -1 \"UNIIs 10Nov2016 Records.txt\"\n",
    "    UNII\tPT\tRN\tEC\tNCIT\tRXCUI\tITIS\tNCBI\tPLANTS\tGRIN\tINN_ID\tMF\tINCHIKEY\tSMILES\tUNII_TYPE\n",
    "\n",
    "along with 8k rows in \"UNIIs 10Nov2016 Changes.txt\" with:  \n",
    "    \n",
    "    UNII\tDATA\tFIELD\tTYPE\n",
    "    \n",
    "\n",
    "Seems the UNIIs Records file could be a resource for filling in gaps.  \n",
    "There are 48,341 unii->inchikey mappings and 35,385 unii missing mappings."
   ]
  },
  {
   "cell_type": "markdown",
   "metadata": {},
   "source": [
    "Although this file contains json it is not quite valid in its current form."
   ]
  },
  {
   "cell_type": "code",
   "execution_count": 46,
   "metadata": {
    "collapsed": false
   },
   "outputs": [
    {
     "name": "stdout",
     "output_type": "stream",
     "text": [
      "parse error: Invalid numeric literal at line 1, column 7\n"
     ]
    },
    {
     "ename": "",
     "evalue": "4",
     "output_type": "error",
     "traceback": []
    }
   ],
   "source": [
    "jq . fullSeedData-2016-06-16"
   ]
  },
  {
   "cell_type": "markdown",
   "metadata": {},
   "source": [
    "Omitting the leading items or changing them to json are the options. Omitting is risky because although the few I have looked at the UNII and UUID are replicated in the json I can't be sure it is consistant so including them is safer.  "
   ]
  },
  {
   "cell_type": "code",
   "execution_count": 47,
   "metadata": {
    "collapsed": true
   },
   "outputs": [],
   "source": [
    "awk 'BEGIN{print \"[\"}{$1=\"\\\"unid\\\": \";$2=\"\\\"\" $2\"\\\",\";$3=\"\\\"ginas\\\": \\\"\"$3\"\\\",\";$4=\"\\\"record\\\": \"$4;print \"{\" $0 \"},\"}END{print \"]\"}' fullSeedData-2016-06-16 > fullSeedData-2016-06-16.json\n"
   ]
  },
  {
   "cell_type": "code",
   "execution_count": 48,
   "metadata": {
    "collapsed": false
   },
   "outputs": [
    {
     "name": "stdout",
     "output_type": "stream",
     "text": [
      "parse error: Invalid numeric literal at line 33442, column 96\n"
     ]
    },
    {
     "ename": "",
     "evalue": "4",
     "output_type": "error",
     "traceback": []
    }
   ],
   "source": [
    "jq . fullSeedData-2016-06-16.json"
   ]
  },
  {
   "cell_type": "markdown",
   "metadata": {},
   "source": [
    "That is anoying. Malformed json deep in the file."
   ]
  },
  {
   "cell_type": "code",
   "execution_count": 49,
   "metadata": {
    "collapsed": false
   },
   "outputs": [
    {
     "name": "stdout",
     "output_type": "stream",
     "text": [
      "{\"unid\":  \"[ingredient]\", \"ginas\": \"3786568514\", \"record\": 90061b24-2d13-4a1b-bfbe-46b22cf2cea2 {\"substanceClass\":\"concept\",\"names\":[{\"name\":\"HYDROCODONE POLISTIREX\",\"stdName\":\"HYDROCODONE POLISTIREX\"\n"
     ]
    }
   ],
   "source": [
    "sed -n '33442'p fullSeedData-2016-06-16.json | cut -c1-200"
   ]
  },
  {
   "cell_type": "markdown",
   "metadata": {},
   "source": [
    "Everything is displaced to the right by one with the appearence of `\"[ingredient]\"`."
   ]
  },
  {
   "cell_type": "code",
   "execution_count": 50,
   "metadata": {
    "collapsed": false
   },
   "outputs": [
    {
     "name": "stdout",
     "output_type": "stream",
     "text": [
      "4933\n"
     ]
    }
   ],
   "source": [
    "grep -c \"^WORKED: \\[ingredient\\]\" fullSeedData-2016-06-16"
   ]
  },
  {
   "cell_type": "code",
   "execution_count": 51,
   "metadata": {
    "collapsed": false
   },
   "outputs": [
    {
     "name": "stdout",
     "output_type": "stream",
     "text": [
      "4933\n"
     ]
    }
   ],
   "source": [
    "grep -c \"^WORKED: \\[\" fullSeedData-2016-06-16"
   ]
  },
  {
   "cell_type": "markdown",
   "metadata": {},
   "source": [
    "Appears the 5k with `\"[ingredient]\"` are the only ones with the optional flag in that location.  \n"
   ]
  },
  {
   "cell_type": "code",
   "execution_count": 52,
   "metadata": {
    "collapsed": true
   },
   "outputs": [],
   "source": [
    "awk 'BEGIN{print \"[\"}\\\n",
    "NR==1             {$1=\"\\\"unid\\\":\";$2=\"\\\"\" $2 \"\\\",\";$3=\"\\\"ginas\\\": \\\"\" $3 \"\\\",\";$4=\"\\\"record\\\":\" $4;print \"{\"$0\"}\"}\\\n",
    "NR>1&&\\\n",
    "$2!=\"[ingredient]\"{$1=\"\\\"unid\\\":\";$2=\"\\\"\" $2 \"\\\",\";$3=\"\\\"ginas\\\": \\\"\" $3 \"\\\",\";$4=\"\\\"record\\\":\" $4;print \",{\"$0\"}\"}\\\n",
    "$2==\"[ingredient]\"{$1=\"\\\"unid\\\":\";$3=\"\\\"\" $3 \"\\\",\";$4=\"\\\"ginas\\\": \\\"\" $4 \"\\\",\";$5=\"\\\"ingredient\\\":\\\"true\\\",\\\"record\\\":\" $5;$2=\"\";print \",{\"$0\"}\"}\\\n",
    "END{print \"]\"}' fullSeedData-2016-06-16 > fullSeedData-2016-06-16.json"
   ]
  },
  {
   "cell_type": "code",
   "execution_count": 53,
   "metadata": {
    "collapsed": false
   },
   "outputs": [],
   "source": [
    "jq . fullSeedData-2016-06-16.json > fullSeedData-2016-06-16_pp.json"
   ]
  },
  {
   "cell_type": "code",
   "execution_count": 54,
   "metadata": {
    "collapsed": false
   },
   "outputs": [
    {
     "name": "stdout",
     "output_type": "stream",
     "text": [
      "[\n",
      "  {\n",
      "    \"unid\": \"18MXK3D6DB\",\n",
      "    \"ginas\": \"b029367a-c360-4617-8a2e-fd90c7a88fdf\",\n",
      "    \"record\": {\n",
      "      \"structure\": {\n",
      "        \"references\": [\n",
      "          \"17162b41-9aa8-4549-b423-a1169d864351\",\n",
      "          \"383105ca-e739-4df4-9be3-cb7342556d73\"\n",
      "        ],\n"
     ]
    }
   ],
   "source": [
    "head fullSeedData-2016-06-16_pp.json"
   ]
  },
  {
   "cell_type": "markdown",
   "metadata": {},
   "source": [
    "How are records spaced out after formatting?"
   ]
  },
  {
   "cell_type": "code",
   "execution_count": 55,
   "metadata": {
    "collapsed": false
   },
   "outputs": [
    {
     "name": "stdout",
     "output_type": "stream",
     "text": [
      "2:  {\n",
      "146:  {\n",
      "355:  {\n",
      "603:  {\n",
      "822:  {\n",
      "1200:  {\n",
      "1626:  {\n",
      "1905:  {\n",
      "2199:  {\n",
      "2467:  {\n",
      "grep: write error: Broken pipe\n"
     ]
    }
   ],
   "source": [
    "grep -n \"^  {\" fullSeedData-2016-06-16_pp.json| head"
   ]
  },
  {
   "cell_type": "markdown",
   "metadata": {
    "collapsed": true
   },
   "source": [
    "Looks like a couple of hundred lines each.\n",
    "What does a record look like?"
   ]
  },
  {
   "cell_type": "code",
   "execution_count": 1,
   "metadata": {
    "collapsed": false
   },
   "outputs": [
    {
     "name": "stdout",
     "output_type": "stream",
     "text": [
      "  {\n",
      "    \"unid\": \"0HBU04R8B0\",\n",
      "    \"ginas\": \"9aa0b0d4-d546-47a1-8c0f-207d983b75d5\",\n",
      "    \"record\": {\n",
      "      \"structure\": {\n",
      "        \"references\": [\n",
      "          \"310a4998-172a-400b-b469-bd60962a6aa1\",\n",
      "          \"a1ecee58-f238-423c-a3f3-cf58a3e48501\"\n",
      "        ],\n",
      "        \"molfile\": \"\\n Symyx 06151614132D 1 1.00000 0.00000 0\\n\\n 14 14 0 0 0 999 V2000\\n 0.1458 -4.2583 0.0000 C 0 0 0 0 0 0 0 0 0\\n -1.0125 -4.9292 0.0000 N 0 0 0 0 0 0 0 0 0\\n 0.1542 -2.9458 0.0000 O 0 0 0 0 0 0 0 0 0\\n 1.3000 -4.9583 0.0000 O 0 0 0 0 0 0 0 0 0\\n -2.1500 -4.2750 0.0000 C 0 0 0 0 0 0 0 0 0\\n -3.3125 -4.9458 0.0000 C 0 0 0 0 0 0 0 0 0\\n -4.4667 -4.2417 0.0000 C 0 0 0 0 0 0 0 0 0\\n -5.5958 -4.9042 0.0000 Cl 0 0 0 0 0 0 0 0 0\\n -3.3083 -2.2542 0.0000 C 0 0 0 0 0 0 0 0 0\\n 2.4333 -4.2917 0.0000 C 0 0 3 0 0 0 0 0 0\\n -2.1542 -2.9500 0.0000 C 0 0 0 0 0 0 0 0 0\\n -4.4708 -2.9167 0.0000 C 0 0 0 0 0 0 0 0 0\\n 3.5875 -4.9500 0.0000 C 0 0 0 0 0 0 0 0 0\\n 2.4667 -2.9667 0.0000 C 0 0 0 0 0 0 0 0 0\\n 2 1 1 0 0 0\\n 3 1 2 0 0 0\\n 4 1 1 0 0 0\\n 5 2 1 0 0 0\\n 6 5 2 0 0 0\\n 7 6 1 0 0 0\\n 8 7 1 0 0 0\\n 9 11 2 0 0 0\\n 10 4 1 0 0 0\\n 11 5 1 0 0 0\\n 12 9 1 0 0 0\\n 13 10 1 0 0 0\\n 14 10 1 0 0 0\\n 7 12 2 0 0 0\\nM END\\n\",\n",
      "        \"stereochemistry\": \"ACHIRAL\",\n",
      "        \"opticalActivity\": \"UNSPECIFIED\",\n",
      "        \"atropisomerism\": \"No\",\n",
      "        \"stereoComments\": \"\",\n",
      "        \"stereoCenters\": 0,\n",
      "        \"definedStereo\": 0,\n",
      "        \"ezCenters\": 0,\n",
      "        \"charge\": 0,\n",
      "        \"hash\": \"YH972FAGD44G\",\n",
      "        \"formula\": \"C10H12ClNO2\",\n",
      "        \"mwt\": \"213.661\"\n",
      "      },\n",
      "      \"moieties\": [\n",
      "        {\n",
      "          \"count\": 1,\n",
      "          \"molfile\": \"0HBU04R8B0\\n Marvin 06161610202D \\n\\n 14 14 0 0 0 0 999 V2000\\n 0.0905 -2.6439 0.0000 C 0 0 0 0 0 0 0 0 0 0 0 0\\n -0.6287 -3.0605 0.0000 N 0 0 0 0 0 0 0 0 0 0 0 0\\n 0.0957 -1.8290 0.0000 O 0 0 0 0 0 0 0 0 0 0 0 0\\n 0.8072 -3.0786 0.0000 O 0 0 0 0 0 0 0 0 0 0 0 0\\n -1.3349 -2.6543 0.0000 C 0 0 0 0 0 0 0 0 0 0 0 0\\n -2.0567 -3.0708 0.0000 C 0 0 0 0 0 0 0 0 0 0 0 0\\n -2.7733 -2.6336 0.0000 C 0 0 0 0 0 0 0 0 0 0 0 0\\n -3.4744 -3.0450 0.0000 Cl 0 0 0 0 0 0 0 0 0 0 0 0\\n -2.0541 -1.3996 0.0000 C 0 0 0 0 0 0 0 0 0 0 0 0\\n 1.5108 -2.6647 0.0000 C 0 0 0 0 0 0 0 0 0 0 0 0\\n -1.3375 -1.8316 0.0000 C 0 0 0 0 0 0 0 0 0 0 0 0\\n -2.7759 -1.8110 0.0000 C 0 0 0 0 0 0 0 0 0 0 0 0\\n 2.2274 -3.0734 0.0000 C 0 0 0 0 0 0 0 0 0 0 0 0\\n 1.5316 -1.8420 0.0000 C 0 0 0 0 0 0 0 0 0 0 0 0\\n 2 1 1 0 0 0 0\\n 3 1 2 0 0 0 0\\n 4 1 1 0 0 0 0\\n 5 2 1 0 0 0 0\\n 6 5 2 0 0 0 0\\n 7 6 1 0 0 0 0\\n 8 7 1 0 0 0 0\\n 9 11 2 0 0 0 0\\n 10 4 1 0 0 0 0\\n 11 5 1 0 0 0 0\\n 12 9 1 0 0 0 0\\n 13 10 1 0 0 0 0\\n 14 10 1 0 0 0 0\\n 7 12 2 0 0 0 0\\nM END\\n\",\n",
      "          \"stereochemistry\": \"ACHIRAL\",\n",
      "          \"opticalActivity\": \"UNSPECIFIED\",\n",
      "          \"atropisomerism\": \"No\",\n",
      "          \"stereoComments\": \"\",\n",
      "          \"stereoCenters\": 0,\n",
      "          \"definedStereo\": 0,\n",
      "          \"ezCenters\": 0,\n",
      "          \"charge\": 0,\n",
      "          \"hash\": \"YH972FAGD44G\",\n",
      "          \"formula\": \"C10H12ClNO2\",\n",
      "          \"mwt\": \"213.661\"\n",
      "        }\n",
      "      ],\n",
      "      \"approvalID\": \"0HBU04R8B0\",\n",
      "      \"status\": \"approved\",\n",
      "      \"approvedBy\": \"FDA_SRS\",\n",
      "      \"deprecated\": false,\n",
      "      \"approved\": 1466087558516,\n",
      "      \"substanceClass\": \"chemical\",\n",
      "      \"names\": [\n",
      "        {\n",
      "          \"name\": \"CHLORPROPHAM\",\n",
      "          \"stdName\": \"CHLORPROPHAM\",\n",
      "          \"type\": \"cn\",\n",
      "          \"displayName\": true,\n",
      "          \"domains\": [],\n",
      "          \"languages\": [\n",
      "            \"en\"\n",
      "          ],\n",
      "          \"references\": [\n",
      "            \"d54bd215-b617-4f43-b338-c78a604f1070\",\n",
      "            \"1fd8a5cd-5337-4dd2-9ee5-f453d46c6d99\",\n",
      "            \"5ce69310-8e8e-413a-8eaa-4ff90cc1768c\",\n",
      "            \"b0bf9bd7-27e0-423f-83ab-d6d6df9c1efe\",\n",
      "            \"040cdc54-8c4f-420c-93e1-37bc39cd413a\",\n",
      "            \"17be92f7-97fd-451d-865d-fe96eea1dec3\",\n",
      "            \"a35e129a-eb98-4e19-a067-f24173ff68d1\"\n",
      "          ],\n",
      "          \"preferred\": true,\n",
      "          \"access\": []\n",
      "        },\n",
      "        {\n",
      "          \"name\": \"ISOPROPYL 3-CHLOROCARBANILATE\",\n",
      "          \"stdName\": \"ISOPROPYL 3-CHLOROCARBANILATE\",\n",
      "          \"type\": \"cn\",\n",
      "          \"displayName\": false,\n",
      "          \"domains\": [],\n",
      "          \"languages\": [\n",
      "            \"en\"\n",
      "          ],\n",
      "          \"references\": [\n",
      "            \"c364e4c8-e075-475b-93bf-955615086417\"\n",
      "          ],\n",
      "          \"preferred\": false,\n",
      "          \"access\": []\n",
      "        },\n",
      "        {\n",
      "          \"name\": \"1-METHYLETHYL N-(3-CHLOROPHENYL)CARBAMATE\",\n",
      "          \"stdName\": \"1-METHYLETHYL N-(3-CHLOROPHENYL)CARBAMATE\",\n",
      "          \"type\": \"sys\",\n",
      "          \"displayName\": false,\n",
      "          \"domains\": [],\n",
      "          \"languages\": [\n",
      "            \"en\"\n",
      "          ],\n",
      "          \"references\": [\n",
      "            \"c364e4c8-e075-475b-93bf-955615086417\"\n",
      "          ],\n",
      "          \"preferred\": false,\n",
      "          \"access\": []\n",
      "        }\n",
      "      ],\n",
      "      \"codes\": [\n",
      "        {\n",
      "          \"code\": \"101-21-3\",\n",
      "          \"codeSystem\": \"CAS\",\n",
      "          \"references\": [\n",
      "            \"6ae6713a-516f-444a-950d-276e59400e2c\"\n",
      "          ],\n",
      "          \"url\": \"http://chem.sis.nlm.nih.gov/chemidplus/direct.jsp?regno=101-21-3&result=advanced\",\n",
      "          \"type\": \"PRIMARY\",\n",
      "          \"access\": []\n",
      "        },\n",
      "        {\n",
      "          \"code\": \"D002748\",\n",
      "          \"codeSystem\": \"MESH\",\n",
      "          \"references\": [\n",
      "            \"6ae6713a-516f-444a-950d-276e59400e2c\"\n",
      "          ],\n",
      "          \"url\": \"http://www.ncbi.nlm.nih.gov/mesh/68002748\",\n",
      "          \"type\": \"PRIMARY\",\n",
      "          \"access\": []\n",
      "        },\n",
      "        {\n",
      "          \"code\": \"18301\",\n",
      "          \"codeSystem\": \"EPA PESTICIDE CODE\",\n",
      "          \"references\": [\n",
      "            \"6ae6713a-516f-444a-950d-276e59400e2c\"\n",
      "          ],\n",
      "          \"url\": \"http://iaspub.epa.gov/apex/pesticides/f?p=CHEMICALSEARCH:3:0::NO:21,3,31,7,12,25:P3_XCHEMICAL_ID:1821\",\n",
      "          \"type\": \"PRIMARY\",\n",
      "          \"comments\": \"EPA PESTICIDE |CONVENTIONAL CHEMICAL\",\n",
      "          \"access\": []\n",
      "        },\n",
      "        {\n",
      "          \"code\": \"202-925-7\",\n",
      "          \"codeSystem\": \"ECHA (EC/EINECS)\",\n",
      "          \"references\": [\n",
      "            \"6ae6713a-516f-444a-950d-276e59400e2c\"\n",
      "          ],\n",
      "          \"type\": \"PRIMARY\",\n",
      "          \"access\": []\n",
      "        },\n",
      "        {\n",
      "          \"code\": \"M3463\",\n",
      "          \"codeSystem\": \"MERCK INDEX\",\n",
      "          \"references\": [\n",
      "            \"6ae6713a-516f-444a-950d-276e59400e2c\"\n",
      "          ],\n",
      "          \"url\": \"https://www.rsc.org/Merck-Index/monograph/M3463?q=authorize\",\n",
      "          \"type\": \"PRIMARY\",\n",
      "          \"comments\": \"Merck Index\",\n",
      "          \"access\": []\n",
      "        }\n",
      "      ],\n",
      "      \"relationships\": [],\n",
      "      \"references\": [\n",
      "        {\n",
      "          \"uuid\": \"5ce69310-8e8e-413a-8eaa-4ff90cc1768c\",\n",
      "          \"citation\": \"ICSAS BATCH 2010:<SRS_LEGACY_DATA></SRS_LEGACY_DATA>\",\n",
      "          \"docType\": \"SRS\",\n",
      "          \"publicDomain\": true,\n",
      "          \"tags\": [\n",
      "            \"NOMEN\"\n",
      "          ],\n",
      "          \"access\": []\n",
      "        },\n",
      "        {\n",
      "          \"uuid\": \"c364e4c8-e075-475b-93bf-955615086417\",\n",
      "          \"citation\": \"ALANWOOD.NET:<SRS_LEGACY_DATA></SRS_LEGACY_DATA>\",\n",
      "          \"docType\": \"SRS\",\n",
      "          \"publicDomain\": true,\n",
      "          \"tags\": [\n",
      "            \"NOMEN\"\n",
      "          ],\n",
      "          \"access\": []\n",
      "        },\n",
      "        {\n",
      "          \"uuid\": \"040cdc54-8c4f-420c-93e1-37bc39cd413a\",\n",
      "          \"citation\": \"MERCK INDEX:<SRS_LEGACY_DATA></SRS_LEGACY_DATA>\",\n",
      "          \"docType\": \"SRS\",\n",
      "          \"publicDomain\": true,\n",
      "          \"tags\": [\n",
      "            \"NOMEN\"\n",
      "          ],\n",
      "          \"access\": []\n",
      "        },\n",
      "        {\n",
      "          \"uuid\": \"17be92f7-97fd-451d-865d-fe96eea1dec3\",\n",
      "          \"citation\": \"HSDB:<SRS_LEGACY_DATA></SRS_LEGACY_DATA>\",\n",
      "          \"docType\": \"SRS\",\n",
      "          \"publicDomain\": true,\n",
      "          \"tags\": [\n",
      "            \"NOMEN\"\n",
      "          ],\n",
      "          \"access\": []\n",
      "        },\n",
      "        {\n",
      "          \"uuid\": \"d54bd215-b617-4f43-b338-c78a604f1070\",\n",
      "          \"citation\": \"ISO:<SRS_LEGACY_DATA></SRS_LEGACY_DATA>\",\n",
      "          \"docType\": \"SRS\",\n",
      "          \"publicDomain\": true,\n",
      "          \"tags\": [\n",
      "            \"NOMEN\"\n",
      "          ],\n",
      "          \"access\": []\n",
      "        },\n",
      "        {\n",
      "          \"uuid\": \"6ae6713a-516f-444a-950d-276e59400e2c\",\n",
      "          \"citation\": \"SRS CODE IMPORT:<SRS_LEGACY_DATA></SRS_LEGACY_DATA>\",\n",
      "          \"docType\": \"SRS\",\n",
      "          \"publicDomain\": true,\n",
      "          \"documentDate\": \"2016-06-16T10:32:38.000-0400\",\n",
      "          \"tags\": [\n",
      "            \"NOMEN\"\n",
      "          ],\n",
      "          \"access\": []\n",
      "        },\n",
      "        {\n",
      "          \"uuid\": \"a1ecee58-f238-423c-a3f3-cf58a3e48501\",\n",
      "          \"citation\": \"SRS import [0HBU04R8B0]:<SRS_LEGACY_DATA><CREATED_BY></CREATED_BY><CREATED_DATE>null</CREATED_DATE></SRS_LEGACY_DATA>\",\n",
      "          \"docType\": \"SRS\",\n",
      "          \"publicDomain\": true,\n",
      "          \"documentDate\": \"2016-06-16T10:32:38.000-0400\",\n",
      "          \"tags\": [\n",
      "            \"NOMEN\"\n",
      "          ],\n",
      "          \"url\": \"http://fdasis.nlm.nih.gov/srs/srsdirect.jsp?regno=0HBU04R8B0\",\n",
      "          \"access\": []\n",
      "        },\n",
      "        {\n",
      "          \"uuid\": \"310a4998-172a-400b-b469-bd60962a6aa1\",\n",
      "          \"citation\": \"CHEMID 2010\",\n",
      "          \"docType\": \"SRS\",\n",
      "          \"publicDomain\": true,\n",
      "          \"tags\": [\n",
      "            \"NOMEN\"\n",
      "          ],\n",
      "          \"access\": []\n",
      "        },\n",
      "        {\n",
      "          \"citation\": \"CHLORPROPHAM [MI]\",\n",
      "          \"docType\": \"SRS_LOCATOR\",\n",
      "          \"uuid\": \"1fd8a5cd-5337-4dd2-9ee5-f453d46c6d99\",\n",
      "          \"publicDomain\": true\n",
      "        },\n",
      "        {\n",
      "          \"citation\": \"CHLORPROPHAM [HSDB]\",\n",
      "          \"docType\": \"SRS_LOCATOR\",\n",
      "          \"uuid\": \"a35e129a-eb98-4e19-a067-f24173ff68d1\",\n",
      "          \"publicDomain\": true\n",
      "        },\n",
      "        {\n",
      "          \"citation\": \"CHLORPROPHAM [ISO]\",\n",
      "          \"docType\": \"SRS_LOCATOR\",\n",
      "          \"uuid\": \"b0bf9bd7-27e0-423f-83ab-d6d6df9c1efe\",\n",
      "          \"publicDomain\": true\n",
      "        }\n",
      "      ],\n",
      "      \"properties\": [],\n",
      "      \"notes\": [],\n",
      "      \"tags\": [\n",
      "        \"ISO\",\n",
      "        \"HSDB\",\n",
      "        \"MI\"\n",
      "      ],\n",
      "      \"uuid\": \"9aa0b0d4-d546-47a1-8c0f-207d983b75d5\",\n",
      "      \"definitionLevel\": \"COMPLETE\",\n",
      "      \"access\": [],\n",
      "      \"lastEditedBy\": \"FDA_SRS\"\n",
      "    }\n",
      "  },\n",
      "  {\n"
     ]
    }
   ],
   "source": [
    "sed -n '2199,2467'p fullSeedData-2016-06-16_pp.json"
   ]
  },
  {
   "cell_type": "markdown",
   "metadata": {
    "collapsed": true
   },
   "source": [
    "parsed into ntriples with python. see the `Parse_Ginas_json.py` jupyter notebook.\n",
    "and `Ginas.py`\n",
    "\n",
    "I have not included any Moiety fields so far.  "
   ]
  },
  {
   "cell_type": "markdown",
   "metadata": {},
   "source": [
    "##############################################################"
   ]
  },
  {
   "cell_type": "code",
   "execution_count": 1,
   "metadata": {
    "collapsed": false,
    "scrolled": true
   },
   "outputs": [
    {
     "name": "stdout",
     "output_type": "stream",
     "text": [
      "3522185\n"
     ]
    }
   ],
   "source": [
    "wc -l < ginas.nt"
   ]
  },
  {
   "cell_type": "markdown",
   "metadata": {},
   "source": [
    "RDF ntriples have lines of the form \"`<subject> <predicate> <object> .`\"  \n",
    "we should be able to confirm certain conditions hold:  \n",
    "\\>    The subject is always a Ginias identifier.  \n",
    "\\>    The predicate is now always a path to root (to be reinterperted as an ontological term).  \n",
    "\\>    The object is most variable but when it is a Ginas identifier. That identifier exists as a subject.  "
   ]
  },
  {
   "cell_type": "code",
   "execution_count": 3,
   "metadata": {
    "collapsed": false
   },
   "outputs": [
    {
     "name": "stdout",
     "output_type": "stream",
     "text": [
      "1563311\n",
      "1958874\n"
     ]
    }
   ],
   "source": [
    "grep -c \"^<GINAS:\" ginas.nt\n",
    "grep -c \"^<GINASREF:\" ginas.nt"
   ]
  },
  {
   "cell_type": "markdown",
   "metadata": {},
   "source": [
    "The output is free of duplicate statements.  \n",
    "\n",
    "What predicates are there and how many of each?"
   ]
  },
  {
   "cell_type": "code",
   "execution_count": 5,
   "metadata": {
    "collapsed": false
   },
   "outputs": [
    {
     "name": "stdout",
     "output_type": "stream",
     "text": [
      " 649506 <reference_uuid:>\n",
      " 649506 <reference_docType:>\n",
      " 649506 <reference_citation:>\n",
      " 553496 <reference_tag:>\n",
      " 205757 <name_references:>\n",
      " 198471 <codes_code:>\n",
      " 113086 <structure_references:>\n",
      " 106366 <reference_url:>\n",
      "  84979 <unii:>\n",
      "  84979 <substanceClass:>\n",
      "  84977 <names_stdName:>\n",
      "  70718 <code_references:>\n",
      "  56543 <structure_formula:>\n",
      "   7437 <mixture_component_substance:>\n",
      "   4933 <ingredient:>\n",
      "   1925 <mixture_component_type:>\n"
     ]
    }
   ],
   "source": [
    "cut -f2 -d' ' ginas.nt| sort | uniq -c | sort -nr"
   ]
  },
  {
   "cell_type": "markdown",
   "metadata": {},
   "source": [
    "the predicates are a path within the JSON `record` object  \n",
    "\n",
    "(except `ingredient` and `unii` which are technicaly sibblings of `record`)\n",
    "\n",
    "\n",
    "Those need mapping to their proper ontology terms  "
   ]
  },
  {
   "cell_type": "markdown",
   "metadata": {
    "collapsed": true
   },
   "source": [
    "To be okay, unique object ids must not out number unique subject ids"
   ]
  },
  {
   "cell_type": "code",
   "execution_count": 12,
   "metadata": {
    "collapsed": true
   },
   "outputs": [],
   "source": [
    "cut -f1 -d' ' ginas.nt| grep \"^<GINAS:\" |sort -u > ginas_subject.list\n",
    "cut -f1 -d' ' ginas.nt| grep \"^<GINASREF:\" |sort -u > ginasref_subject.list"
   ]
  },
  {
   "cell_type": "code",
   "execution_count": 13,
   "metadata": {
    "collapsed": false
   },
   "outputs": [
    {
     "name": "stdout",
     "output_type": "stream",
     "text": [
      "84979\n",
      "649506\n"
     ]
    }
   ],
   "source": [
    "wc -l < ginas_subject.list\n",
    "wc -l < ginasref_subject.list"
   ]
  },
  {
   "cell_type": "code",
   "execution_count": 14,
   "metadata": {
    "collapsed": true
   },
   "outputs": [],
   "source": [
    "cut -f3 -d' ' ginas.nt |grep \"^<GINAS:\" | sort -u > ginas_object.list\n",
    "cut -f3 -d' ' ginas.nt |grep \"^<GINASREF:\" | sort -u > ginasref_object.list"
   ]
  },
  {
   "cell_type": "code",
   "execution_count": 15,
   "metadata": {
    "collapsed": false
   },
   "outputs": [
    {
     "name": "stdout",
     "output_type": "stream",
     "text": [
      "6858\n",
      "649506\n"
     ]
    }
   ],
   "source": [
    "wc -l < ginas_object.list\n",
    "wc -l < ginasref_object.list"
   ]
  },
  {
   "cell_type": "markdown",
   "metadata": {},
   "source": [
    "Okay so far"
   ]
  },
  {
   "cell_type": "code",
   "execution_count": 16,
   "metadata": {
    "collapsed": true
   },
   "outputs": [],
   "source": [
    "comm -13 ginas_subject.list ginas_object.list"
   ]
  },
  {
   "cell_type": "markdown",
   "metadata": {},
   "source": [
    "No output means all objects exist as subjects which is good.  "
   ]
  },
  {
   "cell_type": "code",
   "execution_count": 18,
   "metadata": {
    "collapsed": false
   },
   "outputs": [],
   "source": [
    "comm -13 ginasref_subject.list ginasref_object.list"
   ]
  },
  {
   "cell_type": "code",
   "execution_count": null,
   "metadata": {
    "collapsed": true
   },
   "outputs": [],
   "source": []
  }
 ],
 "metadata": {
  "kernelspec": {
   "display_name": "Bash",
   "language": "bash",
   "name": "bash"
  },
  "language_info": {
   "codemirror_mode": "shell",
   "file_extension": ".sh",
   "mimetype": "text/x-sh",
   "name": "bash"
  }
 },
 "nbformat": 4,
 "nbformat_minor": 2
}
