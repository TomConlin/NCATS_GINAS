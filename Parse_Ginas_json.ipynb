{
 "cells": [
  {
   "cell_type": "code",
   "execution_count": 3,
   "metadata": {
    "collapsed": true
   },
   "outputs": [],
   "source": [
    "import json\n",
    "import random\n",
    "\n",
    "with open('fullSeedData-2016-06-16.json') as fh:    \n",
    "    ginas = json.load(fh)"
   ]
  },
  {
   "cell_type": "code",
   "execution_count": null,
   "metadata": {
    "collapsed": true
   },
   "outputs": [],
   "source": []
  },
  {
   "cell_type": "code",
   "execution_count": 4,
   "metadata": {
    "collapsed": false
   },
   "outputs": [
    {
     "data": {
      "text/plain": [
       "84979"
      ]
     },
     "execution_count": 4,
     "metadata": {},
     "output_type": "execute_result"
    }
   ],
   "source": [
    "\n",
    "len(ginas)"
   ]
  },
  {
   "cell_type": "code",
   "execution_count": 33,
   "metadata": {
    "collapsed": false
   },
   "outputs": [
    {
     "ename": "NameError",
     "evalue": "name 'statement' is not defined",
     "output_type": "error",
     "traceback": [
      "\u001b[0;31m---------------------------------------------------------------------------\u001b[0m",
      "\u001b[0;31mNameError\u001b[0m                                 Traceback (most recent call last)",
      "\u001b[0;32m<ipython-input-33-a3acc8e5171a>\u001b[0m in \u001b[0;36m<module>\u001b[0;34m()\u001b[0m\n\u001b[1;32m     12\u001b[0m     \u001b[0;31m# rec = ginas[73]\u001b[0m\u001b[0;34m\u001b[0m\u001b[0;34m\u001b[0m\u001b[0m\n\u001b[1;32m     13\u001b[0m     \u001b[0mpkey\u001b[0m\u001b[0;34m=\u001b[0m\u001b[0;34m'GINAS:'\u001b[0m \u001b[0;34m+\u001b[0m \u001b[0mrec\u001b[0m\u001b[0;34m[\u001b[0m\u001b[0;34m'ginas'\u001b[0m\u001b[0;34m]\u001b[0m\u001b[0;34m;\u001b[0m\u001b[0;34m\u001b[0m\u001b[0m\n\u001b[0;32m---> 14\u001b[0;31m     \u001b[0mmake_spo\u001b[0m\u001b[0;34m(\u001b[0m\u001b[0mpkey\u001b[0m\u001b[0;34m,\u001b[0m \u001b[0;34m'unii'\u001b[0m\u001b[0;34m,\u001b[0m \u001b[0;34m'<UNII:'\u001b[0m \u001b[0;34m+\u001b[0m \u001b[0mrec\u001b[0m\u001b[0;34m[\u001b[0m\u001b[0;34m'unid'\u001b[0m\u001b[0;34m]\u001b[0m \u001b[0;34m+\u001b[0m \u001b[0;34m'>'\u001b[0m\u001b[0;34m)\u001b[0m\u001b[0;34m;\u001b[0m\u001b[0;34m\u001b[0m\u001b[0m\n\u001b[0m\u001b[1;32m     15\u001b[0m \u001b[0;34m\u001b[0m\u001b[0m\n\u001b[1;32m     16\u001b[0m     \u001b[0;31m# not sure what this flag will indicate, it is not 'mixture'\u001b[0m\u001b[0;34m\u001b[0m\u001b[0;34m\u001b[0m\u001b[0m\n",
      "\u001b[0;32m<ipython-input-33-a3acc8e5171a>\u001b[0m in \u001b[0;36mmake_spo\u001b[0;34m(s, p, o)\u001b[0m\n\u001b[1;32m      5\u001b[0m     \u001b[0mstatment\u001b[0m \u001b[0;34m=\u001b[0m \u001b[0;34m'<'\u001b[0m \u001b[0;34m+\u001b[0m \u001b[0ms\u001b[0m \u001b[0;34m+\u001b[0m \u001b[0;34m'> <'\u001b[0m \u001b[0;34m+\u001b[0m \u001b[0mp\u001b[0m \u001b[0;34m+\u001b[0m \u001b[0;34m':> '\u001b[0m \u001b[0;34m+\u001b[0m \u001b[0mo\u001b[0m \u001b[0;34m+\u001b[0m \u001b[0;34m' .'\u001b[0m\u001b[0;34m\u001b[0m\u001b[0m\n\u001b[1;32m      6\u001b[0m     \u001b[0;31m# print(statment);\u001b[0m\u001b[0;34m\u001b[0m\u001b[0;34m\u001b[0m\u001b[0m\n\u001b[0;32m----> 7\u001b[0;31m     \u001b[0mtriples\u001b[0m\u001b[0;34m.\u001b[0m\u001b[0mappend\u001b[0m\u001b[0;34m(\u001b[0m\u001b[0mstatement\u001b[0m\u001b[0;34m)\u001b[0m\u001b[0;34m\u001b[0m\u001b[0m\n\u001b[0m\u001b[1;32m      8\u001b[0m \u001b[0;34m\u001b[0m\u001b[0m\n\u001b[1;32m      9\u001b[0m \u001b[0;31m#for rec in ginas:\u001b[0m\u001b[0;34m\u001b[0m\u001b[0;34m\u001b[0m\u001b[0m\n",
      "\u001b[0;31mNameError\u001b[0m: name 'statement' is not defined"
     ]
    }
   ],
   "source": [
    "triples = [None] * 20480000\n",
    "OUTPUT = open('./ginas.nt', 'w')\n",
    "def make_spo(s,p,o):\n",
    "    # s & p get decorated, o we decotate ourselves\n",
    "    statement = '<' + s + '> <' + p + ':> ' + o + ' .'\n",
    "    # print(statement);\n",
    "    triples.append(statement)\n",
    "\n",
    "#for rec in ginas:\n",
    "for i in range(0, 1):\n",
    "    rec = ginas[random.randrange(84979)];\n",
    "    # rec = ginas[73]\n",
    "    pkey='GINAS:' + rec['ginas'];\n",
    "    make_spo(pkey, 'unii', '<UNII:' + rec['unid'] + '>');\n",
    "    \n",
    "    # not sure what this flag will indicate, it is not 'mixture'\n",
    "    if 'ingredient' in rec:\n",
    "        make_spo(pkey,'ingredient', '\"true\"');\n",
    "    \n",
    "    record = rec['record'];\n",
    "    \n",
    "    # Structure\n",
    "    if 'structure' in record:\n",
    "        structure=record['structure'];\n",
    "        for ref in structure['references']:\n",
    "            make_spo(pkey, 'structure_references', '<GINAS:' + ref + '>')\n",
    "            make_spo(pkey, 'structure_formula', '\"' + structure['formula'] + '\"')\n",
    "        if 'substanceClass' in structure:\n",
    "            make_spo(pkey, 'structure_substanceClass', '\"' + structure['substanceClass'] + '\"');\n",
    "            \n",
    "    # Mixture\n",
    "    if 'mixture' in record:\n",
    "        mixture=record['mixture'];\n",
    "        for component in mixture['components']:\n",
    "            make_spo(pkey, 'mixture_component_type', '\"' + component['type'] + '\"')  \n",
    "            substance = component['substance'];\n",
    "            make_spo(pkey, 'mixture_component_substance', '<GINAS:' + substance['refuuid'] + '>')\n",
    "            \n",
    "    # Moieties\n",
    "    # if 'moieties' in rec:\n",
    "    #    for moiety in moieties:\n",
    "    ####################################\n",
    "    \n",
    "    #  \"approvalID\": \"6V3I57K9UL\",  already have as UNII\n",
    "    #  \"status\": \"approved\",\n",
    "    #  \"approvedBy\": \"FDA_SRS\",\n",
    "    #  \"deprecated\": false,\n",
    "    #  \"approved\": 1466087557792,      too big to be a unix timestamp\n",
    "    \n",
    "    #  \"substanceClass\": \"chemical\",\n",
    "    make_spo(pkey, 'substanceClass', '\"' + record['substanceClass'] + '\"')\n",
    "\n",
    "    # Name\n",
    "    for name in record['names']:\n",
    "        if name[\"preferred\"]:\n",
    "            make_spo(pkey, 'names_stdName', '\"' + name['stdName'] + '\"');\n",
    "            for ref in name['references']:\n",
    "                make_spo(pkey, '<name_references', '<GINAS:' + ref + '>')\n",
    "    # Code\n",
    "    for code in record['codes']:\n",
    "        if 'type' in code and code[\"type\"] == 'PRIMARY':\n",
    "            # conflaing codeSystem:code  might not be the best idea             \n",
    "            make_spo(pkey, 'codes_code', '<' + code['codeSystem'] + ':' + code['code'] + '>');\n",
    "            for ref in code['references']:\n",
    "                make_spo(pkey, 'code_references', '<GINAS:' + ref + '>')\n",
    " \n",
    "    # References (get their own pk)            \n",
    "    for reference in record['references']:\n",
    "        if reference[\"publicDomain\"]:\n",
    "            make_spo(pkey, 'reference_uuid', '<GINAS:' + reference['uuid'] + '>')\n",
    "            make_spo('GINAS:' + reference['uuid'], 'reference_citation', '\"' + reference['citation'] + '\"');\n",
    "            make_spo('GINAS:' + reference['uuid'], 'reference_docType',  '\"' + reference['docType'] + '\"');\n",
    "            if 'url' in reference:\n",
    "                make_spo('GINAS:' + reference['uuid'], 'reference_url', '<' + reference['url'] + '>');\n",
    "            if 'tags' in  reference:   \n",
    "                for tag in  reference['tags']:\n",
    "                    make_spo('GINAS:' + reference['uuid'], 'reference_tag', '\"' + tag + '\"');\n",
    "\n",
    "\n",
    "print(triples[1])\n",
    "tripleset = set(triples)            \n",
    "triplist = list(tripleset)\n",
    "print('\\n'.join(triples), file=OUTPUT)\n",
    "OUTPUT.close()"
   ]
  },
  {
   "cell_type": "code",
   "execution_count": null,
   "metadata": {
    "collapsed": false
   },
   "outputs": [],
   "source": []
  }
 ],
 "metadata": {
  "kernelspec": {
   "display_name": "Python 3",
   "language": "python",
   "name": "python3"
  },
  "language_info": {
   "codemirror_mode": {
    "name": "ipython",
    "version": 3
   },
   "file_extension": ".py",
   "mimetype": "text/x-python",
   "name": "python",
   "nbconvert_exporter": "python",
   "pygments_lexer": "ipython3",
   "version": "3.5.2"
  }
 },
 "nbformat": 4,
 "nbformat_minor": 2
}
